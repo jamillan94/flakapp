{
  "nbformat": 4,
  "nbformat_minor": 0,
  "metadata": {
    "colab": {
      "provenance": [],
      "authorship_tag": "ABX9TyPtYhXtct7MqLh8wa0PzWWw",
      "include_colab_link": true
    },
    "kernelspec": {
      "name": "python3",
      "display_name": "Python 3"
    },
    "language_info": {
      "name": "python"
    }
  },
  "cells": [
    {
      "cell_type": "markdown",
      "metadata": {
        "id": "view-in-github",
        "colab_type": "text"
      },
      "source": [
        "<a href=\"https://colab.research.google.com/github/jamillan94/flakapp/blob/main/M%C3%A9todos_b%C3%A1sicos_de_Scikit_learn_(Regresi%C3%B3n_Lineal).ipynb\" target=\"_parent\"><img src=\"https://colab.research.google.com/assets/colab-badge.svg\" alt=\"Open In Colab\"/></a>"
      ]
    },
    {
      "cell_type": "code",
      "execution_count": 2,
      "metadata": {
        "id": "CP7HLszO7Mpn"
      },
      "outputs": [],
      "source": []
    },
    {
      "cell_type": "markdown",
      "source": [
        "# 🧠 Actividad práctica: Métodos básicos de Scikit-Learn (Regresión Lineal)\n",
        "\n",
        "**Autor:** Jorge Armando Millán Gómez  \n",
        "**Cargo actual:** Arquitecto de Software – BBVA Colombia  \n",
        "**Formación:** MBA & Analítica de Datos | MSc. en Ciencias de la Información | Especialista en Ingeniería de Software  \n",
        "\n",
        "---\n",
        "\n",
        "### 🎯 Objetivo\n",
        "Familiarizarse con el uso de **Scikit-Learn** para crear, entrenar y usar un modelo de **Regresión Lineal**, entendiendo su estructura básica y cómo realizar predicciones a partir de nuevos valores.\n",
        "\n",
        "---\n",
        "\n",
        "### 📋 Instrucciones\n",
        "1️⃣ Abre este notebook en **Google Colab**.  \n",
        "2️⃣ Completa los espacios en blanco (ya rellenados correctamente más abajo).  \n",
        "3️⃣ Ejecuta el código y observa la salida en consola.  \n",
        "4️⃣ Toma una captura donde se vean el código y el resultado.  \n",
        "5️⃣ Pega el enlace del notebook y la captura en **Moodle** como entrega.  \n",
        "\n",
        "---\n"
      ],
      "metadata": {
        "id": "_NzapJ2L7Ngy"
      }
    },
    {
      "cell_type": "code",
      "source": [
        "# -*- coding: utf-8 -*-\n",
        "# -------------------------------------------------------------\n",
        "# Ejemplo básico: Regresión lineal con Scikit-Learn\n",
        "# -------------------------------------------------------------\n",
        "\n",
        "# Importa la clase para regresión lineal desde sklearn.linear_model\n",
        "from sklearn.linear_model import LinearRegression\n",
        "\n",
        "# Datos de entrenamiento\n",
        "X = [[1], [2], [3], [4]]\n",
        "y = [2, 4, 6, 8]\n",
        "\n",
        "# Crea el modelo\n",
        "modelo = LinearRegression()\n",
        "\n",
        "# Entrena el modelo con los datos\n",
        "modelo.fit(X, y)\n",
        "\n",
        "# Realiza una predicción para el valor 5\n",
        "prediccion = modelo.predict([[5]])\n",
        "\n",
        "print(\"Predicción para X=5:\", prediccion[0])\n"
      ],
      "metadata": {
        "colab": {
          "base_uri": "https://localhost:8080/"
        },
        "id": "vpYexG7W7OJ6",
        "outputId": "ce134a1e-794b-472b-e50b-d2da62ba56de"
      },
      "execution_count": 3,
      "outputs": [
        {
          "output_type": "stream",
          "name": "stdout",
          "text": [
            "Predicción para X=5: 10.0\n"
          ]
        }
      ]
    },
    {
      "cell_type": "markdown",
      "source": [
        "## ✅ Resultados y explicación\n",
        "\n",
        "**Resultado obtenido:**  \n",
        "> Predicción para X = 5 → 10.0  \n",
        "\n",
        "**¿Por qué?**  \n",
        "El modelo detecta una relación **lineal perfecta** entre X y y:  \n",
        "- Cada incremento de 1 en X implica un aumento de 2 en y.  \n",
        "- La ecuación aprendida es \\( y = 2x \\).  \n",
        "Por eso, cuando \\( X = 5 \\), el modelo devuelve \\( y = 10 \\).\n",
        "\n",
        "---\n",
        "\n",
        "**Conclusión:**  \n",
        "La clase `LinearRegression` de *Scikit-Learn* permite construir modelos lineales en muy pocas líneas de código. Este ejemplo demuestra el flujo esencial del aprendizaje supervisado:  \n",
        "- **Definir los datos**,  \n",
        "- **Crear el modelo**,  \n",
        "- **Entrenarlo**,  \n",
        "- **Usarlo para predecir** nuevos valores.  \n",
        "\n",
        "---\n",
        "\n",
        "**Autor:** *Jorge Armando Millán Gómez*  \n",
        "**LinkedIn:** [www.linkedin.com/in/jorge-millan](https://www.linkedin.com/in/jorge-millan)  \n",
        "**Correo:** jamillan94@gmail.com\n"
      ],
      "metadata": {
        "id": "_XATRkFY7Zag"
      }
    }
  ]
}