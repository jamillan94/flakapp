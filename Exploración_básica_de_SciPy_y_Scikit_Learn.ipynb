{
  "nbformat": 4,
  "nbformat_minor": 0,
  "metadata": {
    "colab": {
      "provenance": [],
      "authorship_tag": "ABX9TyN02ijyY4TZJU+AKnafC9BA",
      "include_colab_link": true
    },
    "kernelspec": {
      "name": "python3",
      "display_name": "Python 3"
    },
    "language_info": {
      "name": "python"
    }
  },
  "cells": [
    {
      "cell_type": "markdown",
      "metadata": {
        "id": "view-in-github",
        "colab_type": "text"
      },
      "source": [
        "<a href=\"https://colab.research.google.com/github/jamillan94/flakapp/blob/main/Exploraci%C3%B3n_b%C3%A1sica_de_SciPy_y_Scikit_Learn.ipynb\" target=\"_parent\"><img src=\"https://colab.research.google.com/assets/colab-badge.svg\" alt=\"Open In Colab\"/></a>"
      ]
    },
    {
      "cell_type": "markdown",
      "source": [],
      "metadata": {
        "id": "URlu2PVTxxYd"
      }
    },
    {
      "cell_type": "markdown",
      "source": [
        "# 🧠 Actividad Práctica: Exploración básica de SciPy y Scikit-Learn\n",
        "\n",
        "**Autor:** Jorge Armando Millán Gómez  \n",
        "**Cargo actual:** Arquitecto de Software – BBVA Colombia  \n",
        "**Formación:** MBA & Analítica de Datos | MSc. en Ciencias de la Información | Especialista en Ingeniería de Software  \n",
        "\n",
        "---\n",
        "\n",
        "### 🎯 Objetivo\n",
        "Aplicar funciones básicas de **SciPy** y **Scikit-Learn** para:\n",
        "- Calcular una **integral definida** con `quad()` de `scipy.integrate`.\n",
        "- Entrenar un modelo de **regresión lineal** con `LinearRegression` y **predecir** para `X = 5`.\n",
        "\n",
        "---\n",
        "\n",
        "### 📋 Instrucciones\n",
        "1) Completa/valida los espacios en blanco en el código.  \n",
        "2) Ejecuta cada celda (Paso 1 y Paso 2).  \n",
        "3) Observa los resultados en la salida.  \n",
        "4) Responde al final:\n",
        "   - ¿Cuál es el resultado de la integral de \\(x^2\\) entre 0 y 3?\n",
        "   - ¿Qué valor predice el modelo para \\(X = 5\\)?\n",
        "\n",
        "---\n"
      ],
      "metadata": {
        "id": "-zej_0utxyYb"
      }
    },
    {
      "cell_type": "code",
      "source": [
        "# Importa la función para integración numérica desde scipy.integrate\n",
        "from scipy.integrate import quad\n",
        "\n",
        "# Define la función f(x) = x^2\n",
        "def f(x):\n",
        "    return x**2\n",
        "\n",
        "# Calcula la integral definida de f entre 0 y 3\n",
        "resultado, error = quad(f, 0, 3)\n",
        "\n",
        "print(\"Integral de x^2 entre 0 y 3 =\", resultado)\n",
        "print(\"Error estimado numérico =\", error)\n"
      ],
      "metadata": {
        "colab": {
          "base_uri": "https://localhost:8080/"
        },
        "id": "8LBSXvSmxzzX",
        "outputId": "196f866b-7f26-42ac-c309-e6d454e33465"
      },
      "execution_count": 8,
      "outputs": [
        {
          "output_type": "stream",
          "name": "stdout",
          "text": [
            "Integral de x^2 entre 0 y 3 = 9.000000000000002\n",
            "Error estimado numérico = 9.992007221626411e-14\n"
          ]
        }
      ]
    },
    {
      "cell_type": "code",
      "source": [
        "# Importa el modelo de regresión lineal\n",
        "from sklearn.linear_model import LinearRegression\n",
        "\n",
        "# Datos de entrenamiento\n",
        "X = [[1], [2], [3], [4]]\n",
        "y = [2, 4, 6, 8]\n",
        "\n",
        "# Crea el modelo\n",
        "modelo = LinearRegression()\n",
        "\n",
        "# Entrena el modelo con los datos\n",
        "modelo.fit(X, y)\n",
        "\n",
        "# Predice el valor para X=5\n",
        "prediccion = modelo.predict([[5]])\n",
        "\n",
        "print(\"Predicción para X=5:\", prediccion[0])\n"
      ],
      "metadata": {
        "colab": {
          "base_uri": "https://localhost:8080/"
        },
        "id": "Y260_GZdx5MA",
        "outputId": "aaae440d-aa52-4bb3-dad6-e94bcbf78320"
      },
      "execution_count": 9,
      "outputs": [
        {
          "output_type": "stream",
          "name": "stdout",
          "text": [
            "Predicción para X=5: 10.0\n"
          ]
        }
      ]
    },
    {
      "cell_type": "markdown",
      "source": [
        "## ✅ Resultados y Respuestas\n",
        "\n",
        "**Resultado de la integral de \\(x^2\\) entre 0 y 3:**  \n",
        "**9.0** (exacto).  \n",
        "**Por qué:** \\(\\int x^2 dx = \\frac{x^3}{3}\\). Evaluando de 0 a 3: \\(\\frac{3^3}{3} - \\frac{0^3}{3} = \\frac{27}{3} = 9\\).\n",
        "\n",
        "**Predicción del modelo para \\(X = 5\\):**  \n",
        "**10.0**.  \n",
        "**Por qué:** Los datos siguen la relación lineal \\(y = 2x\\). Por tanto, para \\(x=5\\) → \\(y=10\\). El modelo `LinearRegression` aprende esa pendiente e intercepto y devuelve ~10.\n"
      ],
      "metadata": {
        "id": "p4W3aWB6yET7"
      }
    },
    {
      "cell_type": "markdown",
      "source": [
        "## 🧩 Conclusión\n",
        "\n",
        "El ejercicio permitió aplicar de manera práctica dos herramientas esenciales de la ciencia de datos en Python: **SciPy** y **Scikit-Learn**.  \n",
        "La función `quad()` de *SciPy* calculó correctamente la **integral definida de x² entre 0 y 3**, obteniendo un resultado aproximado de **9.0**, lo que coincide con el valor teórico.  \n",
        "Por su parte, el modelo **LinearRegression** de *Scikit-Learn* aprendió la relación lineal \\(y = 2x\\) a partir de los datos de entrenamiento, logrando predecir un valor de **10.0** cuando \\(X = 5\\).\n",
        "\n",
        "Este ejercicio constituye un primer acercamiento a la integración de **cálculo numérico y aprendizaje automático básico** en un mismo entorno, sentando las bases para posteriores implementaciones que incluyan:\n",
        "- Integración de funciones más complejas y verificación analítica de resultados.  \n",
        "- Aplicación de modelos de regresión múltiple o polinómica.  \n",
        "- Evaluación del error y métricas de desempeño del modelo.  \n",
        "- Visualización de la recta de regresión y comparación con datos reales.  \n",
        "\n",
        "---\n",
        "\n",
        "**Autor:** *Jorge Armando Millán Gómez*  \n",
        "**LinkedIn:** [www.linkedin.com/in/jorge-millan](https://www.linkedin.com/in/jorge-millan)  \n",
        "**Correo:** jamillan94@gmail.com\n"
      ],
      "metadata": {
        "id": "NRL3yIljyl7Y"
      }
    }
  ]
}