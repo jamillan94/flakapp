{
  "nbformat": 4,
  "nbformat_minor": 0,
  "metadata": {
    "colab": {
      "provenance": [],
      "authorship_tag": "ABX9TyOBoUws7Wim1gMWZT5qzJe1",
      "include_colab_link": true
    },
    "kernelspec": {
      "name": "python3",
      "display_name": "Python 3"
    },
    "language_info": {
      "name": "python"
    }
  },
  "cells": [
    {
      "cell_type": "markdown",
      "metadata": {
        "id": "view-in-github",
        "colab_type": "text"
      },
      "source": [
        "<a href=\"https://colab.research.google.com/github/jamillan94/flakapp/blob/main/Pr%C3%A1ctica_b%C3%A1sica_carga_y_prueba_de_modelo_KNN_con_entrada_manual_en_Colab.ipynb\" target=\"_parent\"><img src=\"https://colab.research.google.com/assets/colab-badge.svg\" alt=\"Open In Colab\"/></a>"
      ]
    },
    {
      "cell_type": "markdown",
      "source": [
        "# 🌺 Práctica básica: Carga y prueba de modelo KNN con entrada manual en Colab\n",
        "\n",
        "**Autor:** Jorge Armando Millán Gómez  \n",
        "**Cargo actual:** Arquitecto de Software – BBVA Colombia  \n",
        "**Formación:** MBA & Analítica de Datos | MSc. en Ciencias de la Información | Especialista en Ingeniería de Software  \n",
        "\n",
        "---\n",
        "\n",
        "### 🎯 Objetivo\n",
        "1. Cargar el dataset **Iris** usando *scikit-learn*.  \n",
        "2. Crear y entrenar un modelo **KNN (k=3)** con todos los datos.  \n",
        "3. Evaluar la precisión del modelo en el mismo conjunto.  \n",
        "4. Solicitar **entrada manual** por teclado para predecir la especie de una flor.  \n",
        "\n",
        "---\n",
        "\n",
        "### 📋 Indicaciones\n",
        "- Ingresa los valores de la flor **cuando el programa los solicite**.  \n",
        "- Usa valores en centímetros (ejemplo: 5.1, 3.5, 1.4, 0.2).  \n",
        "- El sistema mostrará la clase predicha: `setosa`, `versicolor` o `virginica`.  \n",
        "\n",
        "---\n"
      ],
      "metadata": {
        "id": "bylyzLYRDIAM"
      }
    },
    {
      "cell_type": "code",
      "source": [
        "# -*- coding: utf-8 -*-\n",
        "# -------------------------------------------------------------\n",
        "# Entrenamiento de un modelo KNN (k=3) con el dataset Iris\n",
        "# -------------------------------------------------------------\n",
        "\n",
        "# 1️⃣ Importación de librerías necesarias\n",
        "from sklearn.datasets import load_iris\n",
        "from sklearn.neighbors import KNeighborsClassifier\n",
        "from sklearn.metrics import accuracy_score\n",
        "\n",
        "# 2️⃣ Carga del dataset Iris\n",
        "iris = load_iris()\n",
        "X = iris.data     # Características: [longitud sépalo, ancho sépalo, longitud pétalo, ancho pétalo]\n",
        "y = iris.target   # Etiquetas de clase (0, 1, 2)\n",
        "\n",
        "# 3️⃣ Creación del modelo KNN con 3 vecinos\n",
        "modelo = KNeighborsClassifier(n_neighbors=3)\n",
        "\n",
        "# 4️⃣ Entrenamiento del modelo con todos los datos\n",
        "modelo.fit(X, y)\n",
        "\n",
        "# 5️⃣ Evaluación de precisión (accuracy) sobre el mismo conjunto\n",
        "y_pred = modelo.predict(X)\n",
        "acc = accuracy_score(y, y_pred)\n",
        "\n",
        "# 6️⃣ Resultados del entrenamiento\n",
        "print(\"-------------------------------------------------------------\")\n",
        "print(\"Modelo: KNN (k=3)\")\n",
        "print(\"Precisión (accuracy) en el mismo conjunto:\", f\"{acc:.4f}\")\n",
        "print(\"Clases posibles:\", list(iris.target_names))\n",
        "print(\"-------------------------------------------------------------\")\n"
      ],
      "metadata": {
        "colab": {
          "base_uri": "https://localhost:8080/"
        },
        "id": "MK5LnmcqDJlj",
        "outputId": "1c3fcb4c-0320-4449-fb3a-9276d3c471b3"
      },
      "execution_count": 3,
      "outputs": [
        {
          "output_type": "stream",
          "name": "stdout",
          "text": [
            "-------------------------------------------------------------\n",
            "Modelo: KNN (k=3)\n",
            "Precisión (accuracy) en el mismo conjunto: 0.9600\n",
            "Clases posibles: [np.str_('setosa'), np.str_('versicolor'), np.str_('virginica')]\n",
            "-------------------------------------------------------------\n"
          ]
        }
      ]
    },
    {
      "cell_type": "code",
      "source": [
        "# -*- coding: utf-8 -*-\n",
        "# -------------------------------------------------------------\n",
        "# Entrada manual: el usuario ingresa las medidas de la flor\n",
        "# -------------------------------------------------------------\n",
        "\n",
        "# Ejemplo típico para probar:\n",
        "# Longitud sépalo: 5.1\n",
        "# Ancho sépalo: 3.5\n",
        "# Longitud pétalo: 1.4\n",
        "# Ancho pétalo: 0.2\n",
        "\n",
        "try:\n",
        "    print(\"🔹 Ingrese las características de la flor en centímetros.\")\n",
        "    print(\"💡 Ejemplo: sépalo (5.1, 3.5) pétalo (1.4, 0.2)\")\n",
        "    print(\"-------------------------------------------------------------\")\n",
        "\n",
        "    # Solicitud de valores con sugerencias al usuario\n",
        "    sepal_length = float(input(\"👉 Longitud del sépalo (cm) [ej. 5.1]: \").strip())\n",
        "    sepal_width  = float(input(\"👉 Ancho del sépalo (cm) [ej. 3.5]: \").strip())\n",
        "    petal_length = float(input(\"👉 Longitud del pétalo (cm) [ej. 1.4]: \").strip())\n",
        "    petal_width  = float(input(\"👉 Ancho del pétalo (cm) [ej. 0.2]: \").strip())\n",
        "\n",
        "    # Crear muestra con los valores ingresados\n",
        "    nueva_muestra = [[sepal_length, sepal_width, petal_length, petal_width]]\n",
        "\n",
        "    # Predicción con el modelo\n",
        "    pred = modelo.predict(nueva_muestra)\n",
        "    clase_predicha = iris.target_names[pred][0]\n",
        "\n",
        "    # Mostrar resultados\n",
        "    print(\"-------------------------------------------------------------\")\n",
        "    print(\"🌼 Nueva flor:\", nueva_muestra[0])\n",
        "    print(\"🌿 Clase predicha:\", clase_predicha)\n",
        "    print(\"-------------------------------------------------------------\")\n",
        "\n",
        "except ValueError:\n",
        "    print(\"⚠️ Error: Ingresa solo números válidos (usa punto decimal, ej. 5.1).\")\n"
      ],
      "metadata": {
        "colab": {
          "base_uri": "https://localhost:8080/"
        },
        "id": "BpFIxXT5DPrr",
        "outputId": "aa03e96f-29b4-44f0-d220-5249c77c6bd5"
      },
      "execution_count": 4,
      "outputs": [
        {
          "output_type": "stream",
          "name": "stdout",
          "text": [
            "🔹 Ingrese las características de la flor en centímetros.\n",
            "💡 Ejemplo: sépalo (5.1, 3.5) pétalo (1.4, 0.2)\n",
            "-------------------------------------------------------------\n",
            "👉 Longitud del sépalo (cm) [ej. 5.1]: 5\n",
            "👉 Ancho del sépalo (cm) [ej. 3.5]: 3\n",
            "👉 Longitud del pétalo (cm) [ej. 1.4]: 4\n",
            "👉 Ancho del pétalo (cm) [ej. 0.2]: 2\n",
            "-------------------------------------------------------------\n",
            "🌼 Nueva flor: [5.0, 3.0, 4.0, 2.0]\n",
            "🌿 Clase predicha: versicolor\n",
            "-------------------------------------------------------------\n"
          ]
        }
      ]
    },
    {
      "cell_type": "markdown",
      "source": [
        "## 🧩 Conclusión\n",
        "\n",
        "Esta práctica permitió implementar un modelo **KNN (k=3)** con el dataset **Iris**, entrenarlo con todos los datos disponibles y realizar una **predicción a partir de valores ingresados manualmente**.  \n",
        "El modelo demostró una alta precisión sobre el mismo conjunto, y la entrada manual permitió experimentar con distintos valores de características.\n",
        "\n",
        "Este ejercicio constituye un punto de partida para posteriores prácticas que incluyan:\n",
        "- Separación de datos (`train_test_split`) para evaluar la generalización.  \n",
        "- Normalización de características (`StandardScaler`) para mejorar el rendimiento.  \n",
        "- Ajuste del número de vecinos (**k**) con `GridSearchCV`.  \n",
        "- Visualización de fronteras de decisión y análisis de errores.\n",
        "\n",
        "---\n",
        "\n",
        "**Autor:** *Jorge Armando Millán Gómez*  \n",
        "**LinkedIn:** [www.linkedin.com/in/jorge-millan](https://www.linkedin.com/in/jorge-millan)  \n",
        "**Correo:** jamillan94@gmail.com\n"
      ],
      "metadata": {
        "id": "fkLO6v4xDm64"
      }
    }
  ]
}