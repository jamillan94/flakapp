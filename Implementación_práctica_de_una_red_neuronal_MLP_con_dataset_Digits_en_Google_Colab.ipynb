{
  "nbformat": 4,
  "nbformat_minor": 0,
  "metadata": {
    "colab": {
      "provenance": [],
      "authorship_tag": "ABX9TyNK6Ugg6HpjKcniAxtg3dof",
      "include_colab_link": true
    },
    "kernelspec": {
      "name": "python3",
      "display_name": "Python 3"
    },
    "language_info": {
      "name": "python"
    }
  },
  "cells": [
    {
      "cell_type": "markdown",
      "metadata": {
        "id": "view-in-github",
        "colab_type": "text"
      },
      "source": [
        "<a href=\"https://colab.research.google.com/github/jamillan94/flakapp/blob/main/Implementaci%C3%B3n_pr%C3%A1ctica_de_una_red_neuronal_MLP_con_dataset_Digits_en_Google_Colab.ipynb\" target=\"_parent\"><img src=\"https://colab.research.google.com/assets/colab-badge.svg\" alt=\"Open In Colab\"/></a>"
      ]
    },
    {
      "cell_type": "markdown",
      "source": [
        "# 🌸 Actividad práctica: KNN con el dataset Iris (Scikit-Learn)\n",
        "\n",
        "**Autor:** Jorge Armando Millán Gómez  \n",
        "**Cargo actual:** Arquitecto de Software – BBVA Colombia  \n",
        "**Formación:** MBA & Analítica de Datos | MSc. en Ciencias de la Información | Especialista en Ingeniería de Software  \n",
        "\n",
        "---\n",
        "\n",
        "### 🎯 Objetivo\n",
        "Cargar el conjunto **Iris**, crear un modelo **KNN (k=3)**, entrenarlo con **todos los datos** y **predecir** la clase de una nueva flor. Además, evaluar el desempeño con **accuracy** (en el mismo conjunto, por simplicidad).\n",
        "\n",
        "---\n",
        "\n",
        "### 📋 Instrucciones\n",
        "1) Ejecuta las celdas en orden.  \n",
        "2) Verifica la clase predicha para la nueva flor dada.  \n",
        "3) Observa la **precisión (accuracy)** reportada.  \n",
        "4) Toma captura del código y los resultados impresos y súbela a **Moodle**, junto con el enlace del notebook.\n",
        "\n",
        "---\n"
      ],
      "metadata": {
        "id": "nolwcfHI9buX"
      }
    },
    {
      "cell_type": "code",
      "source": [
        "# -*- coding: utf-8 -*-\n",
        "# -------------------------------------------------------------\n",
        "# KNN (k=3) sobre el dataset Iris con evaluación y predicción\n",
        "# -------------------------------------------------------------\n",
        "\n",
        "# 1) IMPORTACIONES\n",
        "from sklearn.datasets import load_iris            # Carga el dataset Iris incluido en scikit-learn\n",
        "from sklearn.neighbors import KNeighborsClassifier # Importa el clasificador KNN\n",
        "from sklearn.metrics import accuracy_score         # Métrica de evaluación: accuracy (precisión)\n",
        "\n",
        "# 2) CARGA DEL DATASET\n",
        "datos = load_iris()   # Carga el dataset (retorna un objeto tipo 'Bunch' con data, target, target_names, etc.)\n",
        "X = datos.data        # Matriz de características (4 por muestra: sépalo largo/ancho, pétalo largo/ancho)\n",
        "y = datos.target      # Vector de etiquetas (0, 1, 2) que corresponden a las clases en target_names\n",
        "\n",
        "# 3) CREACIÓN DEL MODELO KNN\n",
        "modelo = KNeighborsClassifier(n_neighbors=3)  # Instancia el modelo KNN con k=3 vecinos\n",
        "\n",
        "# 4) ENTRENAMIENTO CON TODOS LOS DATOS (sin división para simplificar)\n",
        "modelo.fit(X, y)      # Ajusta el modelo aprendiendo a clasificar según los vecinos más cercanos\n",
        "\n",
        "# 5) PREDICCIÓN PARA UNA NUEVA FLOR (valores dados en el enunciado)\n",
        "#    Orden de las características: [longitud_sépalo, ancho_sépalo, longitud_pétalo, ancho_pétalo]\n",
        "nueva_flor = [[6.0, 2.9, 4.5, 1.5]]      # Nueva muestra a clasificar\n",
        "prediccion = modelo.predict(nueva_flor)  # Devuelve el índice de la clase predicha (ej. array([1]))\n",
        "clase_predicha = datos.target_names[prediccion][0]  # Mapea el índice a su nombre (ej. 'versicolor')\n",
        "\n",
        "# 6) EVALUACIÓN (accuracy) EN EL MISMO CONJUNTO (nota: sobreestima desempeño)\n",
        "y_pred_entrenamiento = modelo.predict(X)        # Predicciones sobre los mismos datos de entrenamiento\n",
        "accuracy = accuracy_score(y, y_pred_entrenamiento)  # Cálculo de la precisión (proporción de aciertos)\n",
        "\n",
        "# 7) IMPRESIÓN DE RESULTADOS\n",
        "print(\"Clase predicha para la nueva flor:\", clase_predicha)\n",
        "print(\"Precisión (accuracy) en el mismo conjunto:\", round(accuracy, 4))\n"
      ],
      "metadata": {
        "colab": {
          "base_uri": "https://localhost:8080/"
        },
        "id": "Q-MkWMFk9coR",
        "outputId": "6134a257-d968-412e-9e3a-8e144d82da85"
      },
      "execution_count": 2,
      "outputs": [
        {
          "output_type": "stream",
          "name": "stdout",
          "text": [
            "Clase predicha para la nueva flor: versicolor\n",
            "Precisión (accuracy) en el mismo conjunto: 0.96\n"
          ]
        }
      ]
    },
    {
      "cell_type": "markdown",
      "source": [
        "## ✅ Resultados y respuestas\n",
        "\n",
        "**Clase predicha para la nueva flor** \\([6.0, 2.9, 4.5, 1.5]\\):  \n",
        "> *(Se imprimirá arriba; típicamente será **\"versicolor\"** con k=3)*\n",
        "\n",
        "**Precisión (accuracy) reportada** (en el mismo conjunto):  \n",
        "> *(Se imprimirá arriba; al evaluar sobre entrenamiento, suele ser alta y **sobreestima** el rendimiento real)*\n",
        "\n",
        "---\n",
        "\n",
        "### 📝 Nota rápida\n",
        "- Evaluar en el mismo conjunto facilita la práctica, pero **no refleja** el desempeño real en datos nuevos.  \n",
        "- Para una evaluación más realista, usar `train_test_split` y medir accuracy en el **conjunto de prueba**.\n",
        "\n",
        "---\n"
      ],
      "metadata": {
        "id": "EJYdkpdE-dTg"
      }
    },
    {
      "cell_type": "markdown",
      "source": [
        "## 🧩 Conclusión\n",
        "\n",
        "Este ejercicio mostró el flujo básico de un clasificador **KNN** con *Scikit-Learn*: cargar datos, crear el modelo (k=3), entrenar y predecir la clase de una nueva flor.  \n",
        "El modelo predijo correctamente una clase plausible (p. ej., **versicolor**) y reportó una **accuracy alta** al evaluarse sobre el mismo conjunto de entrenamiento.\n",
        "\n",
        "Al igual que en ejercicios previos, esta configuración **tiende a sobreestimar el rendimiento real** por no separar datos de entrenamiento y prueba.  \n",
        "Este experimento sirve como punto de partida para futuras mejoras que incluyan:\n",
        "- División de datos (`train_test_split`)  \n",
        "- Búsqueda del mejor **k** mediante validación cruzada  \n",
        "- Normalización de características para mejorar el desempeño de KNN  \n",
        "- Matriz de confusión y métricas por clase (precision, recall, F1-score)\n",
        "\n",
        "---\n",
        "\n",
        "**Autor:** *Jorge Armando Millán Gómez*  \n",
        "**LinkedIn:** [www.linkedin.com/in/jorge-millan](https://www.linkedin.com/in/jorge-millan)  \n",
        "**Correo:** jamillan94@gmail.com\n"
      ],
      "metadata": {
        "id": "lsdGgWsU-iL5"
      }
    }
  ]
}