{
  "nbformat": 4,
  "nbformat_minor": 0,
  "metadata": {
    "colab": {
      "provenance": [],
      "authorship_tag": "ABX9TyNLQWNKeGVg7xvk0TYNzgE2",
      "include_colab_link": true
    },
    "kernelspec": {
      "name": "python3",
      "display_name": "Python 3"
    },
    "language_info": {
      "name": "python"
    }
  },
  "cells": [
    {
      "cell_type": "markdown",
      "metadata": {
        "id": "view-in-github",
        "colab_type": "text"
      },
      "source": [
        "<a href=\"https://colab.research.google.com/github/jamillan94/flakapp/blob/main/Actividad_pr%C3%A1ctica_MLP_simple_con_dataset_Digits_(scikit_learn).ipynb\" target=\"_parent\"><img src=\"https://colab.research.google.com/assets/colab-badge.svg\" alt=\"Open In Colab\"/></a>"
      ]
    },
    {
      "cell_type": "markdown",
      "source": [],
      "metadata": {
        "id": "cTCOG6tNizpn"
      }
    },
    {
      "cell_type": "markdown",
      "source": [
        "# 🧠 Actividad Práctica: Red Neuronal MLP con el Dataset *Digits*\n",
        "\n",
        "**Autor:** Jorge Armando Millán Gómez  \n",
        "**Cargo actual:** Arquitecto de Software – BBVA Colombia  \n",
        "**Formación:** MBA & Analítica de Datos | MSc. en Ciencias de la Información | Especialista en Ingeniería de Software  \n",
        "\n",
        "---\n",
        "\n",
        "### 🎯 **Objetivo**\n",
        "Familiarizarse con la creación, entrenamiento y evaluación de una red neuronal básica (*Multi-Layer Perceptron*) utilizando el dataset **Digits** de *scikit-learn*, en un entorno de desarrollo como **Google Colab** o **VS Code**.\n",
        "\n",
        "---\n",
        "\n",
        "### 📋 **Instrucciones**\n",
        "1. Cargar el dataset `digits` desde `sklearn.datasets`.  \n",
        "2. Crear un modelo `MLPClassifier` con parámetros por defecto.  \n",
        "3. Entrenar el modelo con **todos los datos disponibles** (sin dividir entre entrenamiento y prueba).  \n",
        "4. Evaluar el modelo en el mismo conjunto de datos.  \n",
        "5. Imprimir la precisión obtenida.  \n",
        "\n",
        "---\n",
        "\n",
        "### 🧩 **Contexto profesional**\n",
        "Este tipo de práctica es útil para comprender la estructura de una red neuronal multicapa (MLP) y su comportamiento inicial antes de aplicar técnicas avanzadas como:\n",
        "- Normalización y escalado de datos  \n",
        "- Validación cruzada  \n",
        "- Ajuste de hiperparámetros (tuning)  \n",
        "- Regularización para evitar *overfitting*  \n",
        "\n",
        "---"
      ],
      "metadata": {
        "id": "OftAH3B8jA3e"
      }
    },
    {
      "cell_type": "code",
      "source": [
        "# -*- coding: utf-8 -*-\n",
        "# -------------------------------------------------------------\n",
        "# Implementación básica de un modelo MLP para clasificación de dígitos\n",
        "# -------------------------------------------------------------\n",
        "\n",
        "# Importación de librerías necesarias\n",
        "from sklearn.datasets import load_digits\n",
        "from sklearn.neural_network import MLPClassifier\n",
        "from sklearn.metrics import accuracy_score\n",
        "from sklearn.exceptions import ConvergenceWarning\n",
        "import warnings\n",
        "\n",
        "# Se suprimen advertencias de convergencia para mantener limpio el resultado en consola\n",
        "warnings.filterwarnings(\"ignore\", category=ConvergenceWarning)\n",
        "\n",
        "# 1️⃣ Carga del dataset Digits\n",
        "# X contiene las características (64 valores por imagen) y y las etiquetas (dígitos 0 a 9)\n",
        "X, y = load_digits(return_X_y=True)\n",
        "\n",
        "# 2️⃣ Creación del modelo MLP con parámetros por defecto\n",
        "# (una capa oculta con 100 neuronas, activación ReLU y optimizador Adam)\n",
        "clf = MLPClassifier(random_state=42)\n",
        "\n",
        "# 3️⃣ Entrenamiento del modelo con todos los datos disponibles\n",
        "clf.fit(X, y)\n",
        "\n",
        "# 4️⃣ Evaluación del modelo sobre el mismo conjunto\n",
        "y_pred = clf.predict(X)\n",
        "acc = accuracy_score(y, y_pred)\n",
        "\n",
        "# 5️⃣ Impresión del resultado\n",
        "print(\"-------------------------------------------------------------\")\n",
        "print(\"Autor: Jorge Armando Millán Gómez - Arquitecto de Software\")\n",
        "print(\"Institución: BBVA Colombia\")\n",
        "print(\"Evaluación del modelo MLP sobre el dataset completo\")\n",
        "print(f\"Precisión obtenida: {acc:.4f}\")\n",
        "print(\"-------------------------------------------------------------\")\n"
      ],
      "metadata": {
        "colab": {
          "base_uri": "https://localhost:8080/"
        },
        "id": "ClLFhhCtjEcO",
        "outputId": "7f260440-c3fa-4654-85e1-313c3960bb5f"
      },
      "execution_count": 5,
      "outputs": [
        {
          "output_type": "stream",
          "name": "stdout",
          "text": [
            "-------------------------------------------------------------\n",
            "Autor: Jorge Armando Millán Gómez - Arquitecto de Software\n",
            "Institución: BBVA Colombia\n",
            "Evaluación del modelo MLP sobre el dataset completo\n",
            "Precisión obtenida: 1.0000\n",
            "-------------------------------------------------------------\n"
          ]
        }
      ]
    },
    {
      "cell_type": "markdown",
      "source": [
        "## 🧩 Conclusión\n",
        "\n",
        "El modelo **MLPClassifier** logró una alta precisión al ser entrenado y evaluado sobre el mismo conjunto de datos, lo que demuestra su capacidad de aprendizaje sobre el dataset *Digits*.  \n",
        "Sin embargo, este resultado tiende a **sobreestimar el rendimiento real** del modelo, ya que no se realizó separación entre entrenamiento y prueba.\n",
        "\n",
        "Este experimento constituye un punto de partida para posteriores implementaciones que incluyan:\n",
        "- División de datos (`train_test_split`)  \n",
        "- Normalización de características  \n",
        "- Ajuste de hiperparámetros (`GridSearchCV`)  \n",
        "- Evaluación de métricas adicionales (precisión, recall, F1-score, matriz de confusión)  \n",
        "\n",
        "---\n",
        "\n",
        "**Autor:** *Jorge Armando Millán Gómez*  \n",
        "**LinkedIn:** [www.linkedin.com/in/jorge-millan](https://www.linkedin.com/in/jorge-millan)  \n",
        "**Correo:** jamillan94@gmail.com  \n"
      ],
      "metadata": {
        "id": "WTU-0vv2jI-u"
      }
    }
  ]
}